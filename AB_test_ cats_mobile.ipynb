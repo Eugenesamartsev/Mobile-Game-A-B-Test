{
 "cells": [
  {
   "cell_type": "markdown",
   "id": "dafd965e",
   "metadata": {},
   "source": [
    "# Mobile Games A/B Test "
   ]
  },
  {
   "cell_type": "markdown",
   "id": "449bb589",
   "metadata": {},
   "source": [
    "Cookie Cats is an extremely popular mobile puzzle game developed by Tactile Entertainment. This is a classic connect 3 puzzle game where players must connect blocks of the same color to clear the board and win the level.\n",
    " As players progress through game levels, they occasionally encounter levels that force them to wait a considerable amount of time or make in-app purchases to proceed. In addition to encouraging in-app purchases, these portals serve an important purpose of forcing players to stop playing the game, thereby hopefully increasing and prolonging the player's enjoyment of the game.\n",
    " But where should the target be placed? Originally the first gate was at level 30, but in this notebook we will analyze an AB test where we move the first gate in Cookie Cats from level 30 to level 40. In particular, we will examine the impact of player retention. But before we start, an important step before any analysis is understanding the data. So let's load it up and take a look!"
   ]
  },
  {
   "cell_type": "markdown",
   "id": "b72d42c6",
   "metadata": {},
   "source": [
    "### 1. Importing libraries and reading the data"
   ]
  },
  {
   "cell_type": "code",
   "execution_count": 30,
   "id": "8f868cf3",
   "metadata": {},
   "outputs": [],
   "source": [
    "import pandas as pd\n",
    "import numpy as np\n",
    "import matplotlib.pyplot as plt\n",
    "import seaborn as sns\n",
    "import statsmodels.stats.proportion as proportion\n",
    "import statsmodels.stats.power as smp"
   ]
  },
  {
   "cell_type": "code",
   "execution_count": 8,
   "id": "a64403a5",
   "metadata": {},
   "outputs": [],
   "source": [
    "df = pd.read_csv(r'C:\\Users\\SilkRIT\\Desktop\\разное\\ab_test\\cookie_cats.csv')"
   ]
  },
  {
   "cell_type": "code",
   "execution_count": 10,
   "id": "39a5d890",
   "metadata": {},
   "outputs": [
    {
     "data": {
      "text/html": [
       "<div>\n",
       "<style scoped>\n",
       "    .dataframe tbody tr th:only-of-type {\n",
       "        vertical-align: middle;\n",
       "    }\n",
       "\n",
       "    .dataframe tbody tr th {\n",
       "        vertical-align: top;\n",
       "    }\n",
       "\n",
       "    .dataframe thead th {\n",
       "        text-align: right;\n",
       "    }\n",
       "</style>\n",
       "<table border=\"1\" class=\"dataframe\">\n",
       "  <thead>\n",
       "    <tr style=\"text-align: right;\">\n",
       "      <th></th>\n",
       "      <th>userid</th>\n",
       "      <th>version</th>\n",
       "      <th>sum_gamerounds</th>\n",
       "      <th>retention_1</th>\n",
       "      <th>retention_7</th>\n",
       "    </tr>\n",
       "  </thead>\n",
       "  <tbody>\n",
       "    <tr>\n",
       "      <th>0</th>\n",
       "      <td>116</td>\n",
       "      <td>gate_30</td>\n",
       "      <td>3</td>\n",
       "      <td>False</td>\n",
       "      <td>False</td>\n",
       "    </tr>\n",
       "    <tr>\n",
       "      <th>1</th>\n",
       "      <td>337</td>\n",
       "      <td>gate_30</td>\n",
       "      <td>38</td>\n",
       "      <td>True</td>\n",
       "      <td>False</td>\n",
       "    </tr>\n",
       "    <tr>\n",
       "      <th>2</th>\n",
       "      <td>377</td>\n",
       "      <td>gate_40</td>\n",
       "      <td>165</td>\n",
       "      <td>True</td>\n",
       "      <td>False</td>\n",
       "    </tr>\n",
       "    <tr>\n",
       "      <th>3</th>\n",
       "      <td>483</td>\n",
       "      <td>gate_40</td>\n",
       "      <td>1</td>\n",
       "      <td>False</td>\n",
       "      <td>False</td>\n",
       "    </tr>\n",
       "    <tr>\n",
       "      <th>4</th>\n",
       "      <td>488</td>\n",
       "      <td>gate_40</td>\n",
       "      <td>179</td>\n",
       "      <td>True</td>\n",
       "      <td>True</td>\n",
       "    </tr>\n",
       "  </tbody>\n",
       "</table>\n",
       "</div>"
      ],
      "text/plain": [
       "   userid  version  sum_gamerounds  retention_1  retention_7\n",
       "0     116  gate_30               3        False        False\n",
       "1     337  gate_30              38         True        False\n",
       "2     377  gate_40             165         True        False\n",
       "3     483  gate_40               1        False        False\n",
       "4     488  gate_40             179         True         True"
      ]
     },
     "execution_count": 10,
     "metadata": {},
     "output_type": "execute_result"
    }
   ],
   "source": [
    "df.head()"
   ]
  },
  {
   "cell_type": "markdown",
   "id": "aa9cb29f",
   "metadata": {},
   "source": [
    "The data we have contains information about 90,189 players that installed the game while the AB-test was running. \n",
    "The variables are:\n",
    "* userid - a unique number that identifies each player.\n",
    "* version - whether the player was put in the control group (gate_30 - a gate at level 30) or the group with the moved gate (gate_40 - a gate at level 40).\n",
    "* sum_gamerounds - the number of game rounds played by the player during the first 14 days after install.\n",
    "* retention_1 - did the player come back and play 1 day after installing?\n",
    "* retention_7 - did the player come back and play 7 days after installing?"
   ]
  },
  {
   "cell_type": "code",
   "execution_count": 13,
   "id": "915ec98a",
   "metadata": {},
   "outputs": [
    {
     "name": "stdout",
     "output_type": "stream",
     "text": [
      "<class 'pandas.core.frame.DataFrame'>\n",
      "RangeIndex: 90189 entries, 0 to 90188\n",
      "Data columns (total 5 columns):\n",
      " #   Column          Non-Null Count  Dtype \n",
      "---  ------          --------------  ----- \n",
      " 0   userid          90189 non-null  int64 \n",
      " 1   version         90189 non-null  object\n",
      " 2   sum_gamerounds  90189 non-null  int64 \n",
      " 3   retention_1     90189 non-null  bool  \n",
      " 4   retention_7     90189 non-null  bool  \n",
      "dtypes: bool(2), int64(2), object(1)\n",
      "memory usage: 2.2+ MB\n"
     ]
    }
   ],
   "source": [
    "df.info()"
   ]
  },
  {
   "cell_type": "markdown",
   "id": "e047a6db",
   "metadata": {},
   "source": [
    "Let's convert values in columns *retention_1* and *retention_7* to int type. It will help us to make calculations."
   ]
  },
  {
   "cell_type": "code",
   "execution_count": 18,
   "id": "82939458",
   "metadata": {},
   "outputs": [],
   "source": [
    "df[['retention_1','retention_7']] = df[['retention_1','retention_7']].astype(int)"
   ]
  },
  {
   "cell_type": "code",
   "execution_count": 19,
   "id": "86818882",
   "metadata": {},
   "outputs": [
    {
     "data": {
      "text/html": [
       "<div>\n",
       "<style scoped>\n",
       "    .dataframe tbody tr th:only-of-type {\n",
       "        vertical-align: middle;\n",
       "    }\n",
       "\n",
       "    .dataframe tbody tr th {\n",
       "        vertical-align: top;\n",
       "    }\n",
       "\n",
       "    .dataframe thead th {\n",
       "        text-align: right;\n",
       "    }\n",
       "</style>\n",
       "<table border=\"1\" class=\"dataframe\">\n",
       "  <thead>\n",
       "    <tr style=\"text-align: right;\">\n",
       "      <th></th>\n",
       "      <th>userid</th>\n",
       "      <th>version</th>\n",
       "      <th>sum_gamerounds</th>\n",
       "      <th>retention_1</th>\n",
       "      <th>retention_7</th>\n",
       "    </tr>\n",
       "  </thead>\n",
       "  <tbody>\n",
       "    <tr>\n",
       "      <th>0</th>\n",
       "      <td>116</td>\n",
       "      <td>gate_30</td>\n",
       "      <td>3</td>\n",
       "      <td>0</td>\n",
       "      <td>0</td>\n",
       "    </tr>\n",
       "    <tr>\n",
       "      <th>1</th>\n",
       "      <td>337</td>\n",
       "      <td>gate_30</td>\n",
       "      <td>38</td>\n",
       "      <td>1</td>\n",
       "      <td>0</td>\n",
       "    </tr>\n",
       "    <tr>\n",
       "      <th>2</th>\n",
       "      <td>377</td>\n",
       "      <td>gate_40</td>\n",
       "      <td>165</td>\n",
       "      <td>1</td>\n",
       "      <td>0</td>\n",
       "    </tr>\n",
       "    <tr>\n",
       "      <th>3</th>\n",
       "      <td>483</td>\n",
       "      <td>gate_40</td>\n",
       "      <td>1</td>\n",
       "      <td>0</td>\n",
       "      <td>0</td>\n",
       "    </tr>\n",
       "    <tr>\n",
       "      <th>4</th>\n",
       "      <td>488</td>\n",
       "      <td>gate_40</td>\n",
       "      <td>179</td>\n",
       "      <td>1</td>\n",
       "      <td>1</td>\n",
       "    </tr>\n",
       "  </tbody>\n",
       "</table>\n",
       "</div>"
      ],
      "text/plain": [
       "   userid  version  sum_gamerounds  retention_1  retention_7\n",
       "0     116  gate_30               3            0            0\n",
       "1     337  gate_30              38            1            0\n",
       "2     377  gate_40             165            1            0\n",
       "3     483  gate_40               1            0            0\n",
       "4     488  gate_40             179            1            1"
      ]
     },
     "execution_count": 19,
     "metadata": {},
     "output_type": "execute_result"
    }
   ],
   "source": [
    "df.head()"
   ]
  },
  {
   "cell_type": "markdown",
   "id": "2f156944",
   "metadata": {},
   "source": [
    "### 2. A/B testing"
   ]
  },
  {
   "cell_type": "markdown",
   "id": "cf29f4a6",
   "metadata": {},
   "source": [
    "Next step is to calculate target metric which is *retention_rate* for both control (gate_30) and test (group_40) groups.\n",
    "We may see that two groups have roughly the same value of users number which is good news for us. "
   ]
  },
  {
   "cell_type": "code",
   "execution_count": 22,
   "id": "6724dec6",
   "metadata": {},
   "outputs": [
    {
     "data": {
      "text/html": [
       "<div>\n",
       "<style scoped>\n",
       "    .dataframe tbody tr th:only-of-type {\n",
       "        vertical-align: middle;\n",
       "    }\n",
       "\n",
       "    .dataframe tbody tr th {\n",
       "        vertical-align: top;\n",
       "    }\n",
       "\n",
       "    .dataframe thead th {\n",
       "        text-align: right;\n",
       "    }\n",
       "</style>\n",
       "<table border=\"1\" class=\"dataframe\">\n",
       "  <thead>\n",
       "    <tr style=\"text-align: right;\">\n",
       "      <th></th>\n",
       "      <th>version</th>\n",
       "      <th>userid</th>\n",
       "      <th>retention_1</th>\n",
       "      <th>retention_7</th>\n",
       "      <th>retention_rate_1</th>\n",
       "      <th>retention_rate_7</th>\n",
       "    </tr>\n",
       "  </thead>\n",
       "  <tbody>\n",
       "    <tr>\n",
       "      <th>0</th>\n",
       "      <td>gate_30</td>\n",
       "      <td>44700</td>\n",
       "      <td>20034</td>\n",
       "      <td>8502</td>\n",
       "      <td>44.82</td>\n",
       "      <td>19.02</td>\n",
       "    </tr>\n",
       "    <tr>\n",
       "      <th>1</th>\n",
       "      <td>gate_40</td>\n",
       "      <td>45489</td>\n",
       "      <td>20119</td>\n",
       "      <td>8279</td>\n",
       "      <td>44.23</td>\n",
       "      <td>18.20</td>\n",
       "    </tr>\n",
       "  </tbody>\n",
       "</table>\n",
       "</div>"
      ],
      "text/plain": [
       "   version  userid  retention_1  retention_7  retention_rate_1  \\\n",
       "0  gate_30   44700        20034         8502             44.82   \n",
       "1  gate_40   45489        20119         8279             44.23   \n",
       "\n",
       "   retention_rate_7  \n",
       "0             19.02  \n",
       "1             18.20  "
      ]
     },
     "execution_count": 22,
     "metadata": {},
     "output_type": "execute_result"
    }
   ],
   "source": [
    "metrics = df.groupby('version', as_index = False).agg({'userid':'count','retention_1':'sum','retention_7':'sum'})\n",
    "metrics['retention_rate_1'] = round(metrics['retention_1']/metrics['userid']*100,2)\n",
    "metrics['retention_rate_7'] = round(metrics['retention_7']/metrics['userid']*100,2)\n",
    "metrics"
   ]
  },
  {
   "cell_type": "markdown",
   "id": "d03f3178",
   "metadata": {},
   "source": [
    "We see that for both 1st and 7th day retention rate decreases in case of moving gate to 40th level.\n",
    "But to prove this we need to check p-value.\n",
    "As we have binomial target values we may use Chitest to calculate p-value."
   ]
  },
  {
   "cell_type": "code",
   "execution_count": 41,
   "id": "d717e2ae",
   "metadata": {},
   "outputs": [],
   "source": [
    "chi2stat, pval, table = proportion.proportions_chisquare(metrics['retention_1'], metrics['userid'])"
   ]
  },
  {
   "cell_type": "markdown",
   "id": "1e2640d0",
   "metadata": {},
   "source": [
    "Significance level is 0.05"
   ]
  },
  {
   "cell_type": "code",
   "execution_count": 26,
   "id": "38349f5e",
   "metadata": {},
   "outputs": [],
   "source": [
    "alpha = 0.05"
   ]
  },
  {
   "cell_type": "code",
   "execution_count": 42,
   "id": "ff2518cb",
   "metadata": {},
   "outputs": [
    {
     "name": "stdout",
     "output_type": "stream",
     "text": [
      "False\n"
     ]
    }
   ],
   "source": [
    "print(pval < alpha)"
   ]
  },
  {
   "cell_type": "code",
   "execution_count": 45,
   "id": "44c781d2",
   "metadata": {},
   "outputs": [
    {
     "name": "stdout",
     "output_type": "stream",
     "text": [
      "p-value for retention_1 is 0.074\n"
     ]
    }
   ],
   "source": [
    "print(\"p-value for retention_1 is\", round(pval,3))"
   ]
  },
  {
   "cell_type": "markdown",
   "id": "50923559",
   "metadata": {},
   "source": [
    "P-value is greater than the significance level, so we cannot reject the null hypothesis.\n",
    "It means that the difference could be random."
   ]
  },
  {
   "cell_type": "code",
   "execution_count": 46,
   "id": "cfb4f64d",
   "metadata": {},
   "outputs": [],
   "source": [
    "chi2stat, pval, table = proportion.proportions_chisquare(metrics['retention_7'], metrics['userid'])"
   ]
  },
  {
   "cell_type": "code",
   "execution_count": 47,
   "id": "8c9cf321",
   "metadata": {},
   "outputs": [
    {
     "name": "stdout",
     "output_type": "stream",
     "text": [
      "True\n"
     ]
    }
   ],
   "source": [
    "print(pval < alpha)"
   ]
  },
  {
   "cell_type": "code",
   "execution_count": 49,
   "id": "f6194d3f",
   "metadata": {},
   "outputs": [
    {
     "name": "stdout",
     "output_type": "stream",
     "text": [
      "p-value for retention_7 is 0.002\n"
     ]
    }
   ],
   "source": [
    "print(\"p-value for retention_7 is\", round(pval,3))"
   ]
  },
  {
   "cell_type": "markdown",
   "id": "5725ac35",
   "metadata": {},
   "source": [
    "P-value is lower than the significance level, so we can reject the null hypothesis and rely on hypothesis that moving gate to 40 level leads to decreasing 7th day retention rate.\n",
    "To fix the hypothesis we will find out test's power.\n",
    "Test power - the probability of correctly rejecting the null hypothesis if it is false."
   ]
  },
  {
   "cell_type": "code",
   "execution_count": 53,
   "id": "e0919be5",
   "metadata": {},
   "outputs": [],
   "source": [
    "chipower = smp.GofChisquarePower()\n",
    "retention_7_30 = metrics['retention_rate_7'].values[0]/100\n",
    "retention_7_40 = metrics['retention_rate_7'].values[1]/100\n",
    "nobs = min(metrics['userid'])"
   ]
  },
  {
   "cell_type": "markdown",
   "id": "d77f87d7",
   "metadata": {},
   "source": [
    "Here I define effect size function for GofChisquarePower function."
   ]
  },
  {
   "cell_type": "code",
   "execution_count": 51,
   "id": "42c179d4",
   "metadata": {},
   "outputs": [],
   "source": [
    "def chi2_effect_size(p0,p1):\n",
    "    return np.sqrt((p0 - p1)**2 / p0)"
   ]
  },
  {
   "cell_type": "code",
   "execution_count": 52,
   "id": "35eaf8da",
   "metadata": {},
   "outputs": [
    {
     "data": {
      "text/plain": [
       "0.7912804005639859"
      ]
     },
     "execution_count": 52,
     "metadata": {},
     "output_type": "execute_result"
    }
   ],
   "source": [
    "chipower.solve_power(effect_size = chi2_effect_size(retention_7_30, retention_7_40),\n",
    "                    nobs = nobs,\n",
    "                    alpha = pval,\n",
    "                    power = None)"
   ]
  },
  {
   "cell_type": "markdown",
   "id": "60cb7d6b",
   "metadata": {},
   "source": [
    "In our case test's power is 79% which is high value. It means that the probability of not seeing statistically significant differences, where they are, is 21% .\n",
    "So we may rely on the results of A/B test."
   ]
  },
  {
   "cell_type": "markdown",
   "id": "07d3747f",
   "metadata": {},
   "source": [
    "### 3. Conclusion"
   ]
  },
  {
   "cell_type": "markdown",
   "id": "912f5c0f",
   "metadata": {},
   "source": [
    "The Chitest result tells us that there is strong evidence that 7-day retention is higher when the gate is at level 30 than when it is at level 40. The conclusion is: If we want to keep high 7-day retention — we should not move the gate from level 30 to level 40."
   ]
  }
 ],
 "metadata": {
  "kernelspec": {
   "display_name": "Python 3 (ipykernel)",
   "language": "python",
   "name": "python3"
  },
  "language_info": {
   "codemirror_mode": {
    "name": "ipython",
    "version": 3
   },
   "file_extension": ".py",
   "mimetype": "text/x-python",
   "name": "python",
   "nbconvert_exporter": "python",
   "pygments_lexer": "ipython3",
   "version": "3.10.9"
  }
 },
 "nbformat": 4,
 "nbformat_minor": 5
}
